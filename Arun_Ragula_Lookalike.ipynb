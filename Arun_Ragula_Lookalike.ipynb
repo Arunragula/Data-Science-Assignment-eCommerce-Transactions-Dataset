{
  "nbformat": 4,
  "nbformat_minor": 0,
  "metadata": {
    "colab": {
      "provenance": []
    },
    "kernelspec": {
      "name": "python3",
      "display_name": "Python 3"
    },
    "language_info": {
      "name": "python"
    }
  },
  "cells": [
    {
      "cell_type": "code",
      "execution_count": 1,
      "metadata": {
        "id": "j6coX4ASfZhn"
      },
      "outputs": [],
      "source": [
        "import pandas as pd\n",
        "from sklearn.preprocessing import StandardScaler, OneHotEncoder\n",
        "from sklearn.compose import ColumnTransformer\n",
        "from sklearn.metrics.pairwise import cosine_similarity\n",
        "from sklearn.impute import SimpleImputer"
      ]
    },
    {
      "cell_type": "markdown",
      "source": [
        "# Load the datasets"
      ],
      "metadata": {
        "id": "KsswiCjzgRUF"
      }
    },
    {
      "cell_type": "code",
      "source": [
        "transactions_df = pd.read_csv('Transactions.csv')\n",
        "products_df = pd.read_csv('Products.csv')\n",
        "customers_df = pd.read_csv('Customers.csv')"
      ],
      "metadata": {
        "id": "AghPZwFmgIQS"
      },
      "execution_count": 2,
      "outputs": []
    },
    {
      "cell_type": "markdown",
      "source": [
        "# Convert TransactionDate and SignupDate to datetime objects"
      ],
      "metadata": {
        "id": "O-HK36-mgSMM"
      }
    },
    {
      "cell_type": "code",
      "source": [
        "transactions_df['TransactionDate'] = pd.to_datetime(transactions_df['TransactionDate'])\n",
        "customers_df['SignupDate'] = pd.to_datetime(customers_df['SignupDate'])"
      ],
      "metadata": {
        "id": "rc2Nun62gVrk"
      },
      "execution_count": 3,
      "outputs": []
    },
    {
      "cell_type": "markdown",
      "source": [
        "# Feature Engineering"
      ],
      "metadata": {
        "id": "SaVvfOt_gdc4"
      }
    },
    {
      "cell_type": "code",
      "source": [
        "merged_data = pd.merge(transactions_df, products_df, on='ProductID')\n",
        "merged_data = pd.merge(merged_data, customers_df, on='CustomerID')"
      ],
      "metadata": {
        "id": "UxFitxDehrUl"
      },
      "execution_count": 12,
      "outputs": []
    },
    {
      "cell_type": "code",
      "source": [
        "merged_data['SignupYear'] = pd.to_datetime(customers_df['SignupDate']).dt.year\n",
        "customer_features = merged_data.groupby('CustomerID').agg({\n",
        "    'TotalValue': 'sum',\n",
        "    'Quantity': 'sum',\n",
        "    'SignupYear': 'first',\n",
        "    'Region': 'first'\n",
        "})"
      ],
      "metadata": {
        "id": "MRsYKL7KgeX_"
      },
      "execution_count": 14,
      "outputs": []
    },
    {
      "cell_type": "markdown",
      "source": [
        "#  One-Hot Encoding for Region"
      ],
      "metadata": {
        "id": "c3f_QpBIg4wU"
      }
    },
    {
      "cell_type": "code",
      "source": [
        "customer_features = pd.get_dummies(customer_features, columns=['Region'])"
      ],
      "metadata": {
        "id": "Wtk_PDwkg1UW"
      },
      "execution_count": 15,
      "outputs": []
    },
    {
      "cell_type": "markdown",
      "source": [
        "# Normalize Features"
      ],
      "metadata": {
        "id": "Sc2N_uFnhBUg"
      }
    },
    {
      "cell_type": "code",
      "source": [
        "import numpy as np\n",
        "print(np.isnan(scaled_features).any())  # Check for NaNs\n",
        "print(np.isinf(scaled_features).any())"
      ],
      "metadata": {
        "colab": {
          "base_uri": "https://localhost:8080/"
        },
        "id": "NZeN7TRMjZh8",
        "outputId": "793cf31d-cdd0-4b3c-873b-59145db5795f"
      },
      "execution_count": 25,
      "outputs": [
        {
          "output_type": "stream",
          "name": "stdout",
          "text": [
            "True\n",
            "False\n"
          ]
        }
      ]
    },
    {
      "cell_type": "code",
      "source": [
        "scaled_features = np.nan_to_num(scaled_features)"
      ],
      "metadata": {
        "id": "4Tn1-dcajgK4"
      },
      "execution_count": 26,
      "outputs": []
    },
    {
      "cell_type": "code",
      "source": [
        "from sklearn.impute import SimpleImputer\n",
        "imputer = SimpleImputer(strategy='mean')  # Choose strategy (mean, median, etc.)\n",
        "scaled_features = imputer.fit_transform(scaled_features)\n"
      ],
      "metadata": {
        "id": "qO4-eL1_jkRd"
      },
      "execution_count": 27,
      "outputs": []
    },
    {
      "cell_type": "code",
      "source": [
        "scaler = StandardScaler()\n",
        "scaled_features = scaler.fit_transform(customer_features)"
      ],
      "metadata": {
        "id": "tu5TJzPAhD-c"
      },
      "execution_count": 19,
      "outputs": []
    },
    {
      "cell_type": "markdown",
      "source": [
        "# Similarity Matrix"
      ],
      "metadata": {
        "id": "MEFQvFGThHu1"
      }
    },
    {
      "cell_type": "code",
      "source": [
        "from sklearn.metrics.pairwise import cosine_similarity\n",
        "similarity_matrix = cosine_similarity(scaled_features)"
      ],
      "metadata": {
        "id": "GGgAGbh5hIme"
      },
      "execution_count": 28,
      "outputs": []
    },
    {
      "cell_type": "markdown",
      "source": [
        "# Function to get top 3 lookalike"
      ],
      "metadata": {
        "id": "E3Wcqb3mi3B7"
      }
    },
    {
      "cell_type": "code",
      "source": [
        "def get_lookalikes(customer_id, similarity_matrix, top_n=3):\n",
        "    customer_index = customer_features.index.get_loc(customer_id)\n",
        "    similarities = similarity_matrix[customer_index]\n",
        "    top_indices = np.argsort(similarities)[-top_n-1:-1][::-1]\n",
        "    top_customers = customer_features.iloc[top_indices].index\n",
        "    top_scores = similarities[top_indices]\n",
        "    return list(zip(top_customers, top_scores))"
      ],
      "metadata": {
        "id": "iFJSXePti0e5"
      },
      "execution_count": 29,
      "outputs": []
    },
    {
      "cell_type": "markdown",
      "source": [
        "# Generate Lookalike.csv"
      ],
      "metadata": {
        "id": "oI1LwdCJi-50"
      }
    },
    {
      "cell_type": "code",
      "source": [
        "lookalike_map = {}\n",
        "for customer_id in customer_features.index[:20]:\n",
        "    lookalike_map[customer_id] = get_lookalikes(customer_id, similarity_matrix)"
      ],
      "metadata": {
        "id": "AUiI2-erjBVd"
      },
      "execution_count": 30,
      "outputs": []
    },
    {
      "cell_type": "markdown",
      "source": [
        "# Save to CSV"
      ],
      "metadata": {
        "id": "yNlYIwvejzH9"
      }
    },
    {
      "cell_type": "code",
      "source": [
        "import csv\n",
        "with open('Lookalike.csv', 'w') as f:\n",
        "    writer = csv.writer(f)\n",
        "    writer.writerow(['CustomerID', 'LookalikeID', 'SimilarityScore'])\n",
        "    for cust_id, lookalikes in lookalike_map.items():\n",
        "        for lookalike_id, score in lookalikes:\n",
        "            writer.writerow([cust_id, lookalike_id, score])"
      ],
      "metadata": {
        "id": "pTjEuBN3jz-m"
      },
      "execution_count": 32,
      "outputs": []
    }
  ]
}